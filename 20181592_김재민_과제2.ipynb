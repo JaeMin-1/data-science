{
  "nbformat": 4,
  "nbformat_minor": 0,
  "metadata": {
    "colab": {
      "name": "20181592_김재민_과제2.ipynb",
      "provenance": [],
      "toc_visible": true
    },
    "kernelspec": {
      "name": "python3",
      "display_name": "Python 3"
    },
    "language_info": {
      "name": "python"
    }
  },
  "cells": [
    {
      "cell_type": "markdown",
      "metadata": {
        "id": "Jqg0PLXdQOF0"
      },
      "source": [
        "**Pytorch로 Logistic Regression 구현**"
      ]
    },
    {
      "cell_type": "code",
      "metadata": {
        "id": "9t6yHnSjvSSl",
        "colab": {
          "base_uri": "https://localhost:8080/"
        },
        "outputId": "8fa989cb-0157-4d04-832a-d0ac03cb6022"
      },
      "source": [
        "import torch\n",
        "x_train = torch.FloatTensor([[1],[2],[3],[4],[5],[2.5],[3.5],[0],[3.1],[2.7],[2.8],[2.9]])\n",
        "y_train = torch.FloatTensor([[1],[1],[1],[0],[0],[0],[0],[1],[0],[1],[1],[1]])\n",
        "\n",
        "W = torch.zeros(1,1)\n",
        "b = torch.zeros(1,1)\n",
        "\n",
        "lr=1.0\n",
        "\n",
        "for epoch in range(3001):\n",
        " W.requires_grad_(True)\n",
        " b.requires_grad_(True)\n",
        " \n",
        " hypothesis = torch.sigmoid(torch.mm(x_train, W) + b)\n",
        " cost = torch.mean(\n",
        " -y_train * torch.log(hypothesis)\n",
        " -(1 - y_train) * torch.log(1 - hypothesis)\n",
        " )\n",
        "\n",
        " cost.backward()\n",
        " with torch.no_grad() as grd:\n",
        "  W = W - lr * W.grad\n",
        "  b = b - lr * b.grad\n",
        "\n",
        " if epoch % 300 == 0:\n",
        "  print( 'epoch: {}, cost: {:.6f}, w:{:.6f}, b:{:.6f}'.format(epoch, cost.item(), W.squeeze(),b.squeeze()))"
      ],
      "execution_count": 7,
      "outputs": [
        {
          "output_type": "stream",
          "name": "stdout",
          "text": [
            "epoch: 0, cost: 0.693147, w:-0.154167, b:0.083333\n",
            "epoch: 300, cost: 0.390820, w:-2.174322, b:6.609553\n",
            "epoch: 600, cost: 0.383699, w:-2.620779, b:7.953164\n",
            "epoch: 900, cost: 0.382149, w:-2.832521, b:8.587363\n",
            "epoch: 1200, cost: 0.381706, w:-2.946401, b:8.927779\n",
            "epoch: 1500, cost: 0.381565, w:-3.010968, b:9.120598\n",
            "epoch: 1800, cost: 0.381517, w:-3.048561, b:9.232802\n",
            "epoch: 2100, cost: 0.381500, w:-3.070765, b:9.299053\n",
            "epoch: 2400, cost: 0.381494, w:-3.083991, b:9.338510\n",
            "epoch: 2700, cost: 0.381492, w:-3.091908, b:9.362126\n",
            "epoch: 3000, cost: 0.381491, w:-3.096662, b:9.376306\n"
          ]
        }
      ]
    },
    {
      "cell_type": "code",
      "metadata": {
        "colab": {
          "base_uri": "https://localhost:8080/"
        },
        "id": "mZBP00frH0ez",
        "outputId": "f8f3859c-de6f-4463-b1e0-17e019f8731a"
      },
      "source": [
        "x_test = torch.FloatTensor([[4.5],[1.1]])\n",
        "test_result = torch.sigmoid(torch.mm(x_test, W) + b)\n",
        "print(torch.round(test_result))"
      ],
      "execution_count": 5,
      "outputs": [
        {
          "output_type": "stream",
          "name": "stdout",
          "text": [
            "tensor([[0.],\n",
            "        [1.]])\n"
          ]
        }
      ]
    },
    {
      "cell_type": "markdown",
      "metadata": {
        "id": "SIZ8rF9NP5of"
      },
      "source": [
        "**여러가지 optimizer 사용해보기**"
      ]
    },
    {
      "cell_type": "code",
      "metadata": {
        "colab": {
          "base_uri": "https://localhost:8080/"
        },
        "id": "fxK0XipKRYHo",
        "outputId": "afa602e3-82fd-4b37-a22d-8e7b55442cec"
      },
      "source": [
        "#SGD 사용\n",
        "W = torch.zeros(1,1)\n",
        "b = torch.zeros(1,1)\n",
        "\n",
        "lr = 1.0\n",
        "\n",
        "optimizer = torch.optim.SGD([W,b], lr=1.0)\n",
        "\n",
        "for epoch in range(3001):\n",
        " W.requires_grad_(True)\n",
        " b.requires_grad_(True)\n",
        " \n",
        " hypothesis = torch.sigmoid(torch.mm(x_train, W) + b)\n",
        " cost = torch.mean(\n",
        " -y_train * torch.log(hypothesis)\n",
        " -(1 - y_train) * torch.log(1 - hypothesis)\n",
        " )\n",
        "\n",
        " optimizer.zero_grad()\n",
        " cost.backward()\n",
        " optimizer.step()\n",
        "\n",
        " if epoch % 300 == 0:\n",
        "  print( 'epoch: {}, cost: {:.6f}, w:{:.6f}, b:{:.6f}'.format(epoch, cost.item(), W.squeeze(),b.squeeze()))"
      ],
      "execution_count": 8,
      "outputs": [
        {
          "output_type": "stream",
          "name": "stdout",
          "text": [
            "epoch: 0, cost: 0.693147, w:-0.154167, b:0.083333\n",
            "epoch: 300, cost: 0.390820, w:-2.174322, b:6.609553\n",
            "epoch: 600, cost: 0.383699, w:-2.620779, b:7.953164\n",
            "epoch: 900, cost: 0.382149, w:-2.832521, b:8.587363\n",
            "epoch: 1200, cost: 0.381706, w:-2.946401, b:8.927779\n",
            "epoch: 1500, cost: 0.381565, w:-3.010968, b:9.120598\n",
            "epoch: 1800, cost: 0.381517, w:-3.048561, b:9.232802\n",
            "epoch: 2100, cost: 0.381500, w:-3.070765, b:9.299053\n",
            "epoch: 2400, cost: 0.381494, w:-3.083991, b:9.338510\n",
            "epoch: 2700, cost: 0.381492, w:-3.091908, b:9.362126\n",
            "epoch: 3000, cost: 0.381491, w:-3.096662, b:9.376306\n"
          ]
        }
      ]
    },
    {
      "cell_type": "code",
      "metadata": {
        "colab": {
          "base_uri": "https://localhost:8080/"
        },
        "id": "6C_IkPSZPV0A",
        "outputId": "d5a3c4e3-e311-4279-b716-b969050b888e"
      },
      "source": [
        "#Adam 사용\n",
        "W = torch.zeros(1,1)\n",
        "b = torch.zeros(1,1)\n",
        "\n",
        "lr = 1.0\n",
        "\n",
        "optimizer = torch.optim.Adam([W,b], lr=1.0)\n",
        "\n",
        "for epoch in range(3001):\n",
        "  W.requires_grad_(True)\n",
        "  b.requires_grad_(True)\n",
        " \n",
        "  hypothesis = torch.sigmoid(torch.mm(x_train, W) + b)\n",
        "  cost = torch.mean(\n",
        "  -y_train * torch.log(hypothesis)\n",
        "  -(1 - y_train) * torch.log(1 - hypothesis)\n",
        "  )\n",
        "\n",
        "  optimizer.zero_grad()\n",
        "  cost.backward()\n",
        "  optimizer.step()\n",
        "\n",
        "  if epoch % 300 == 0:\n",
        "    print( 'epoch: {}, cost: {:.6f}, w:{:.6f}, b:{:.6f}'.format(epoch, cost.item(), W.squeeze(),b.squeeze()))"
      ],
      "execution_count": 9,
      "outputs": [
        {
          "output_type": "stream",
          "name": "stdout",
          "text": [
            "epoch: 0, cost: 0.693147, w:-1.000000, b:1.000000\n",
            "epoch: 300, cost: 0.381491, w:-3.103857, b:9.397765\n",
            "epoch: 600, cost: 0.381491, w:-3.103853, b:9.397752\n",
            "epoch: 900, cost: 0.381491, w:-3.103853, b:9.397752\n",
            "epoch: 1200, cost: 0.381491, w:-3.103853, b:9.397752\n",
            "epoch: 1500, cost: 0.381491, w:-3.103853, b:9.397752\n",
            "epoch: 1800, cost: 0.381491, w:-3.103931, b:9.401423\n",
            "epoch: 2100, cost: 0.381491, w:-3.103853, b:9.397754\n",
            "epoch: 2400, cost: 0.381491, w:-3.103853, b:9.397753\n",
            "epoch: 2700, cost: 0.381491, w:-3.103853, b:9.397753\n",
            "epoch: 3000, cost: 0.381491, w:-3.103853, b:9.397752\n"
          ]
        }
      ]
    },
    {
      "cell_type": "code",
      "metadata": {
        "colab": {
          "base_uri": "https://localhost:8080/"
        },
        "id": "vZ_gGmm7Q9AZ",
        "outputId": "9e678a3e-ea82-4db3-e40a-0a01f2134dc2"
      },
      "source": [
        "#Adadelta 사용\n",
        "W = torch.zeros(1,1)\n",
        "b = torch.zeros(1,1)\n",
        "\n",
        "lr = 1.0\n",
        "\n",
        "optimizer = torch.optim.Adadelta([W,b])\n",
        "\n",
        "for epoch in range(3001):\n",
        " W.requires_grad_(True)\n",
        " b.requires_grad_(True)\n",
        " \n",
        " hypothesis = torch.sigmoid(torch.mm(x_train, W) + b)\n",
        " cost = torch.mean(\n",
        " -y_train * torch.log(hypothesis)\n",
        " -(1 - y_train) * torch.log(1 - hypothesis)\n",
        " )\n",
        "\n",
        " optimizer.zero_grad()\n",
        " cost.backward()\n",
        " optimizer.step()\n",
        "\n",
        " if epoch % 300 == 0:\n",
        "  print( 'epoch: {}, cost: {:.6f}, w:{:.6f}, b:{:.6f}'.format(epoch, cost.item(), W.squeeze(),b.squeeze()))"
      ],
      "execution_count": 10,
      "outputs": [
        {
          "output_type": "stream",
          "name": "stdout",
          "text": [
            "epoch: 0, cost: 0.693147, w:-0.003162, b:0.003160\n",
            "epoch: 300, cost: 0.537192, w:-0.537830, b:1.522116\n",
            "epoch: 600, cost: 0.458038, w:-1.015019, b:3.038627\n",
            "epoch: 900, cost: 0.417649, w:-1.490835, b:4.520365\n",
            "epoch: 1200, cost: 0.396584, w:-1.962220, b:5.964028\n",
            "epoch: 1500, cost: 0.386648, w:-2.389365, b:7.257202\n",
            "epoch: 1800, cost: 0.382993, w:-2.701013, b:8.193676\n",
            "epoch: 2100, cost: 0.381953, w:-2.875364, b:8.715486\n",
            "epoch: 2400, cost: 0.381644, w:-2.970553, b:8.999921\n",
            "epoch: 2700, cost: 0.381544, w:-3.024969, b:9.162389\n",
            "epoch: 3000, cost: 0.381510, w:-3.056807, b:9.257407\n"
          ]
        }
      ]
    },
    {
      "cell_type": "code",
      "metadata": {
        "colab": {
          "base_uri": "https://localhost:8080/"
        },
        "id": "Dkz3E1OzRLEd",
        "outputId": "789479fd-6a08-4105-f1d3-5381c0426354"
      },
      "source": [
        "#Adagrad 사용\n",
        "W = torch.zeros(1,1)\n",
        "b = torch.zeros(1,1)\n",
        "\n",
        "lr = 1.0\n",
        "\n",
        "optimizer = torch.optim.Adagrad([W,b])\n",
        "\n",
        "for epoch in range(3001):\n",
        " W.requires_grad_(True)\n",
        " b.requires_grad_(True)\n",
        " \n",
        " hypothesis = torch.sigmoid(torch.mm(x_train, W) + b)\n",
        " cost = torch.mean(\n",
        " -y_train * torch.log(hypothesis)\n",
        " -(1 - y_train) * torch.log(1 - hypothesis)\n",
        " )\n",
        "\n",
        " optimizer.zero_grad()\n",
        " cost.backward()\n",
        " optimizer.step()\n",
        "\n",
        " if epoch % 300 == 0:\n",
        "  print( 'epoch: {}, cost: {:.6f}, w:{:.6f}, b:{:.6f}'.format(epoch, cost.item(), W.squeeze(),b.squeeze()))"
      ],
      "execution_count": 11,
      "outputs": [
        {
          "output_type": "stream",
          "name": "stdout",
          "text": [
            "epoch: 0, cost: 0.693147, w:-0.010000, b:0.010000\n",
            "epoch: 300, cost: 0.645402, w:-0.170435, b:0.345706\n",
            "epoch: 600, cost: 0.629598, w:-0.214993, b:0.485882\n",
            "epoch: 900, cost: 0.618306, w:-0.247934, b:0.590929\n",
            "epoch: 1200, cost: 0.609294, w:-0.275112, b:0.678000\n",
            "epoch: 1500, cost: 0.601714, w:-0.298676, b:0.753654\n",
            "epoch: 1800, cost: 0.595136, w:-0.319701, b:0.821231\n",
            "epoch: 2100, cost: 0.589307, w:-0.338818, b:0.882707\n",
            "epoch: 2400, cost: 0.584064, w:-0.356431, b:0.939364\n",
            "epoch: 2700, cost: 0.579294, w:-0.372822, b:0.992093\n",
            "epoch: 3000, cost: 0.574915, w:-0.388193, b:1.041539\n"
          ]
        }
      ]
    },
    {
      "cell_type": "code",
      "metadata": {
        "colab": {
          "base_uri": "https://localhost:8080/"
        },
        "id": "LaxrX6PTRb80",
        "outputId": "4762ea07-e31b-4589-905a-cca0a8ebdb8d"
      },
      "source": [
        "#RMSprop\n",
        "W = torch.zeros(1,1)\n",
        "b = torch.zeros(1,1)\n",
        "\n",
        "lr = 1.0\n",
        "\n",
        "optimizer = torch.optim.RMSprop([W,b])\n",
        "\n",
        "for epoch in range(3001):\n",
        " W.requires_grad_(True)\n",
        " b.requires_grad_(True)\n",
        " \n",
        " hypothesis = torch.sigmoid(torch.mm(x_train, W) + b)\n",
        " cost = torch.mean(\n",
        " -y_train * torch.log(hypothesis)\n",
        " -(1 - y_train) * torch.log(1 - hypothesis)\n",
        " )\n",
        "\n",
        " optimizer.zero_grad()\n",
        " cost.backward()\n",
        " optimizer.step()\n",
        "\n",
        " if epoch % 300 == 0:\n",
        "  print( 'epoch: {}, cost: {:.6f}, w:{:.6f}, b:{:.6f}'.format(epoch, cost.item(), W.squeeze(),b.squeeze()))"
      ],
      "execution_count": 12,
      "outputs": [
        {
          "output_type": "stream",
          "name": "stdout",
          "text": [
            "epoch: 0, cost: 0.693147, w:-0.100000, b:0.100000\n",
            "epoch: 300, cost: 0.444874, w:-1.143202, b:3.429768\n",
            "epoch: 600, cost: 0.402613, w:-1.803058, b:5.454574\n",
            "epoch: 900, cost: 0.386319, w:-2.417708, b:7.325363\n",
            "epoch: 1200, cost: 0.381972, w:-2.881316, b:8.716043\n",
            "epoch: 1500, cost: 0.381534, w:-3.062076, b:9.253578\n",
            "epoch: 1800, cost: 0.381516, w:-3.100250, b:9.367140\n",
            "epoch: 2100, cost: 0.381516, w:-3.107428, b:9.388515\n",
            "epoch: 2400, cost: 0.381516, w:-3.108773, b:9.392519\n",
            "epoch: 2700, cost: 0.381516, w:-3.109025, b:9.393265\n",
            "epoch: 3000, cost: 0.381516, w:-3.109075, b:9.393414\n"
          ]
        }
      ]
    },
    {
      "cell_type": "markdown",
      "metadata": {
        "id": "QQy1V1g7QxyK"
      },
      "source": [
        "**Matplotlib로 결과 시각화**"
      ]
    },
    {
      "cell_type": "code",
      "metadata": {
        "colab": {
          "base_uri": "https://localhost:8080/",
          "height": 265
        },
        "id": "lUSPx8J9TOBK",
        "outputId": "5a06501b-91da-4c8f-91ae-62823a9308a6"
      },
      "source": [
        "import matplotlib.pyplot as plt\n",
        "W.requires_grad_(False)\n",
        "b.requires_grad_(False)\n",
        "\n",
        "plt.scatter(x_train, y_train)\n",
        "\n",
        "X = torch.linspace(0,5,100).unsqueeze(1)\n",
        "Y = torch.sigmoid(torch.mm(X,W)+b)\n",
        "plt.plot(X,Y)\n",
        "plt.show()"
      ],
      "execution_count": 14,
      "outputs": [
        {
          "output_type": "display_data",
          "data": {
            "image/png": "[encoded data removed]",
            "text/plain": [
              "<Figure size 432x288 with 1 Axes>"
            ]
          },
          "metadata": {
            "needs_background": "light"
          }
        }
      ]
    },
    {
      "cell_type": "code",
      "metadata": {
        "colab": {
          "base_uri": "https://localhost:8080/",
          "height": 279
        },
        "id": "_uO-wsghTZzW",
        "outputId": "d0201451-16ce-4ac9-b208-874cf966e546"
      },
      "source": [
        "import matplotlib.pyplot as plt\n",
        "W.requires_grad_(False)\n",
        "b.requires_grad_(False)\n",
        "\n",
        "plt.scatter(x_train, y_train)\n",
        "\n",
        "X = torch.linspace(0,5,100).unsqueeze(1)\n",
        "Y = torch.sigmoid(torch.mm(X,W)+b)\n",
        "plt.ylabel(\"Probability of 1 (Y)\")\n",
        "plt.xlabel(\"Input (X)\")\n",
        "plt.plot(X,Y)\n",
        "plt.show()"
      ],
      "execution_count": 17,
      "outputs": [
        {
          "output_type": "display_data",
          "data": {
            "image/png": "[encoded data removed]",
            "text/plain": [
              "<Figure size 432x288 with 1 Axes>"
            ]
          },
          "metadata": {
            "needs_background": "light"
          }
        }
      ]
    },
    {
      "cell_type": "code",
      "metadata": {
        "colab": {
          "base_uri": "https://localhost:8080/",
          "height": 279
        },
        "id": "QX-bkiHdTiam",
        "outputId": "d6859e39-429f-46e2-e185-1a3ffe5ac6b2"
      },
      "source": [
        "import matplotlib.pyplot as plt\n",
        "W.requires_grad_(False)\n",
        "b.requires_grad_(False)\n",
        "\n",
        "plt.scatter(x_train, y_train)\n",
        "\n",
        "X = torch.linspace(0,5,100).unsqueeze(1)\n",
        "Y = torch.sigmoid(torch.mm(X,W)+b)\n",
        "plt.ylabel(\"Probability of 1 (Y)\")\n",
        "plt.xlabel(\"Input (X)\")\n",
        "plt.scatter(x_train, y_train, c = 'black')\n",
        "plt.plot(X,Y, c = \"#ff0000\")\n",
        "plt.show()"
      ],
      "execution_count": 19,
      "outputs": [
        {
          "output_type": "display_data",
          "data": {
            "image/png": "[encoded data removed]",
            "text/plain": [
              "<Figure size 432x288 with 1 Axes>"
            ]
          },
          "metadata": {
            "needs_background": "light"
          }
        }
      ]
    },
    {
      "cell_type": "code",
      "metadata": {
        "colab": {
          "base_uri": "https://localhost:8080/",
          "height": 279
        },
        "id": "Iiomb_WYT1jH",
        "outputId": "7dd85a50-211e-44da-ad64-46db1982cfca"
      },
      "source": [
        "import matplotlib.pyplot as plt\n",
        "W.requires_grad_(False)\n",
        "b.requires_grad_(False)\n",
        "\n",
        "plt.scatter(x_train, y_train)\n",
        "\n",
        "X = torch.linspace(0,5,100).unsqueeze(1)\n",
        "Y = torch.sigmoid(torch.mm(X,W)+b)\n",
        "plt.ylabel(\"Probability of 1 (Y)\")\n",
        "plt.xlabel(\"Input (X)\")\n",
        "plt.scatter(x_train, y_train, c = 'black')\n",
        "plt.scatter(x_train, y_train, c=\"black\", label=\"Training data\")\n",
        "plt.plot(X,Y, c=\"#ff0000\", label=\"Fitting line\")\n",
        "plt.legend()\n",
        "plt.show()"
      ],
      "execution_count": 20,
      "outputs": [
        {
          "output_type": "display_data",
          "data": {
            "image/png": "[encoded data removed]",
            "text/plain": [
              "<Figure size 432x288 with 1 Axes>"
            ]
          },
          "metadata": {
            "needs_background": "light"
          }
        }
      ]
    },
    {
      "cell_type": "markdown",
      "metadata": {
        "id": "lg4Z33bSR3lC"
      },
      "source": [
        "**Logistic Regression with sklearn**"
      ]
    },
    {
      "cell_type": "code",
      "metadata": {
        "colab": {
          "base_uri": "https://localhost:8080/"
        },
        "id": "_y0lLT6OUddY",
        "outputId": "4fb7c933-c81a-4dbf-8dce-d8e8042e14ca"
      },
      "source": [
        "from sklearn.linear_model import LogisticRegression\n",
        "\n",
        "x_train = [[1],[2],[3],[4],[5],[2.5],[3.5],[0],[3.1],[2.7],[2.8],[2.9]]\n",
        "y_train = [1,1,1,0,0,0,0,1,0,1,1,1] # 입력 shape이 pytorch에서와 다름에 주의!\n",
        "\n",
        "model = LogisticRegression(penalty='none') # penalty (or regularization)은 추후 설명\n",
        "model.fit(x_train, y_train)\n",
        "\n",
        "#W와 b에 해당하는 값 출력\n",
        "print(model.coef_, model.intercept_)\n",
        "\n",
        "# 새로운 x값이 주어질 때 y값 예측해보기\n",
        "x_test = [[4.5],[1.1]]\n",
        "test_result = model.predict(x_test)\n",
        "print(test_result)"
      ],
      "execution_count": 22,
      "outputs": [
        {
          "output_type": "stream",
          "name": "stdout",
          "text": [
            "[[-3.10385806]] [9.39776831]\n",
            "[0 1]\n"
          ]
        }
      ]
    }
  ]
}