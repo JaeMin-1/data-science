{
  "nbformat": 4,
  "nbformat_minor": 0,
  "metadata": {
    "colab": {
      "name": "김재민_20181592_과제5.ipynb",
      "provenance": []
    },
    "kernelspec": {
      "name": "python3",
      "display_name": "Python 3"
    },
    "language_info": {
      "name": "python"
    }
  },
  "cells": [
    {
      "cell_type": "code",
      "metadata": {
        "colab": {
          "base_uri": "https://localhost:8080/"
        },
        "id": "Ni3VjCgwUSwi",
        "outputId": "edcb1b8c-4054-4349-e613-a75649e12575"
      },
      "source": [
        "#Colab에서 구글 드라이브 mount (연결) 하기\n",
        "from google.colab import drive\n",
        "drive.mount('/content/gdrive')"
      ],
      "execution_count": 127,
      "outputs": [
        {
          "output_type": "stream",
          "name": "stdout",
          "text": [
            "Drive already mounted at /content/gdrive; to attempt to forcibly remount, call drive.mount(\"/content/gdrive\", force_remount=True).\n"
          ]
        }
      ]
    },
    {
      "cell_type": "code",
      "metadata": {
        "colab": {
          "base_uri": "https://localhost:8080/"
        },
        "id": "MVA_Si1rZJ5U",
        "outputId": "88c9d884-d158-4aaa-d24d-7555c81fd0e7"
      },
      "source": [
        "#파일 확인하기\n",
        "!ls \"/content/gdrive/My Drive/ml-100k\""
      ],
      "execution_count": 128,
      "outputs": [
        {
          "output_type": "stream",
          "name": "stdout",
          "text": [
            "allbut.pl  u1.base  u2.test  u4.base  u5.test  ub.base\tu.genre  u.occupation\n",
            "mku.sh\t   u1.test  u3.base  u4.test  ua.base  ub.test\tu.info\t u.user\n",
            "README\t   u2.base  u3.test  u5.base  ua.test  u.data\tu.item\n"
          ]
        }
      ]
    },
    {
      "cell_type": "code",
      "metadata": {
        "id": "7CCbPRVVeWGd"
      },
      "source": [
        "#필요한 모듈 import 하기\n",
        "import torch\n",
        "import pandas as pd\n",
        "import torch.nn.functional as F\n",
        "import matplotlib.pyplot as plt"
      ],
      "execution_count": 129,
      "outputs": []
    },
    {
      "cell_type": "code",
      "metadata": {
        "id": "2Y0b6ZLOedMR"
      },
      "source": [
        "#판다스를 이용하여 파일 불러오기\n",
        "train = pd.read_csv(\"/content/gdrive/My Drive/ml-100k/ua.base\",sep=\"\\t\", names=['user', 'movie', 'rating', 'timestamp'])\n",
        "test = pd.read_csv(\"/content/gdrive/My Drive/ml-100k/ua.test\",sep=\"\\t\", names=['user', 'movie', 'rating', 'timestamp'])"
      ],
      "execution_count": 130,
      "outputs": []
    },
    {
      "cell_type": "code",
      "metadata": {
        "id": "Z0WD2Dx5eksx"
      },
      "source": [
        "#pytorch tensor 데이터로 변환\n",
        "items = torch.LongTensor(train['movie'])\n",
        "users = torch.LongTensor(train['user'])\n",
        "ratings = torch.FloatTensor(train['rating'])\n",
        "items_test = torch.LongTensor(test['movie'])\n",
        "users_test = torch.LongTensor(test['user'])\n",
        "ratings_test = torch.FloatTensor(test['rating'])"
      ],
      "execution_count": 131,
      "outputs": []
    },
    {
      "cell_type": "code",
      "metadata": {
        "id": "KSJTUq53eqt-"
      },
      "source": [
        "#rank -> 사용자 vector, 아이템 vector의 차원\n",
        "#numUsers -> 사용자수\n",
        "#numItems -> 아이템수\n",
        "#P -> 아이템 매트릭스\n",
        "#Q -> 사용자 매트릭스\n",
        "rank = 10\n",
        "numItems = items.max() + 1\n",
        "numUsers = users.max() + 1\n",
        "P = torch.randn(numItems, rank, requires_grad=True)\n",
        "Q = torch.randn(numUsers, rank, requires_grad=True)"
      ],
      "execution_count": 132,
      "outputs": []
    },
    {
      "cell_type": "code",
      "metadata": {
        "colab": {
          "base_uri": "https://localhost:8080/"
        },
        "id": "8MFSVmyWfLq2",
        "outputId": "c56de8c1-06fd-4cd5-8828-4996c9f54e32"
      },
      "source": [
        "#기본 Matrix Factorization 구현\n",
        "optimizer = torch.optim.Adam([P, Q], lr= 0.1)\n",
        "\n",
        "for epoch in range(1000):\n",
        " hypothesis = torch. sum(P[items] * Q[users], dim= 1)\n",
        " cost = F.mse_loss(hypothesis ,ratings)\n",
        " \n",
        " optimizer.zero_grad()\n",
        " cost.backward()\n",
        " optimizer.step()\n",
        " \n",
        " if epoch % 100 == 0:\n",
        "  print(f\"epoch: {epoch}, cost: {cost.item()}\")"
      ],
      "execution_count": 133,
      "outputs": [
        {
          "output_type": "stream",
          "name": "stdout",
          "text": [
            "epoch: 0, cost: 23.400611877441406\n",
            "epoch: 100, cost: 0.5626345872879028\n",
            "epoch: 200, cost: 0.493218332529068\n",
            "epoch: 300, cost: 0.470700740814209\n",
            "epoch: 400, cost: 0.46009165048599243\n",
            "epoch: 500, cost: 0.45415636897087097\n",
            "epoch: 600, cost: 0.4504780173301697\n",
            "epoch: 700, cost: 0.4480493366718292\n",
            "epoch: 800, cost: 0.4463284909725189\n",
            "epoch: 900, cost: 0.4449384808540344\n"
          ]
        }
      ]
    },
    {
      "cell_type": "code",
      "metadata": {
        "colab": {
          "base_uri": "https://localhost:8080/",
          "height": 461
        },
        "id": "GlBqk9a_fgLC",
        "outputId": "35444e0d-fd89-4615-97a9-65615de2dc1f"
      },
      "source": [
        "#Matplotlib으로 epoch 마다 Training MSE 그려보기\n",
        "rank = 10 #사용자 vector, 아이템 vector의 차원\n",
        "numItems = items.max() + 1  #사용자 수\n",
        "numUsers = users.max() + 1  #아이템 수\n",
        "P = torch.randn(numItems, rank, requires_grad=True) #아이템 메트릭스\n",
        "Q = torch.randn(numUsers, rank, requires_grad=True) #사용자 매트릭스\n",
        "\n",
        "optimizer = torch.optim.Adam([P, Q], lr= 0.1)\n",
        "X=[]\n",
        "Y=[]\n",
        "\n",
        "for epoch in range(1000):\n",
        " hypothesis = torch. sum(P[items] * Q[users], dim= 1)\n",
        " cost = F.mse_loss(hypothesis ,ratings)\n",
        " \n",
        " optimizer.zero_grad()\n",
        " cost.backward()\n",
        " optimizer.step()\n",
        "\n",
        " X.append(epoch)\n",
        " Y.append(cost)\n",
        " \n",
        " if epoch % 100 == 0:\n",
        "    print(f\"epoch: {epoch}, cost: {cost.item()}\")\n",
        "\n",
        "plt.ylabel(\"MSE\")\n",
        "plt.xlabel(\"Epoch\")\n",
        "plt.plot(X,Y, c=\"blue\", label=\"Training MSE\")\n",
        "plt.legend()\n",
        "plt.show()"
      ],
      "execution_count": 134,
      "outputs": [
        {
          "output_type": "stream",
          "name": "stdout",
          "text": [
            "epoch: 0, cost: 23.184282302856445\n",
            "epoch: 100, cost: 0.5514837503433228\n",
            "epoch: 200, cost: 0.48751577734947205\n",
            "epoch: 300, cost: 0.46718332171440125\n",
            "epoch: 400, cost: 0.45778822898864746\n",
            "epoch: 500, cost: 0.4524466097354889\n",
            "epoch: 600, cost: 0.449070006608963\n",
            "epoch: 700, cost: 0.4466480016708374\n",
            "epoch: 800, cost: 0.4448135197162628\n",
            "epoch: 900, cost: 0.4434382915496826\n"
          ]
        },
        {
          "output_type": "display_data",
          "data": {
            "image/png": "[encoded data removed]",
            "text/plain": [
              "<Figure size 432x288 with 1 Axes>"
            ]
          },
          "metadata": {
            "needs_background": "light"
          }
        }
      ]
    },
    {
      "cell_type": "code",
      "metadata": {
        "colab": {
          "base_uri": "https://localhost:8080/",
          "height": 461
        },
        "id": "BT2X8v6zhg2i",
        "outputId": "c3734487-65d6-4d94-bb75-dd1fbe525ad5"
      },
      "source": [
        "#Matplotlib으로 epoch 마다 Training MSE 그려보기\n",
        "rank = 10 #사용자 vector, 아이템 vector의 차원\n",
        "numItems = items.max() + 1  #사용자 수\n",
        "numUsers = users.max() + 1  #아이템 수\n",
        "P = torch.randn(numItems, rank, requires_grad=True) #아이템 메트릭스\n",
        "Q = torch.randn(numUsers, rank, requires_grad=True) #사용자 매트릭스\n",
        "\n",
        "optimizer = torch.optim.Adam([P, Q], lr= 0.1)\n",
        "X=[]\n",
        "Y=[]\n",
        "Y_test = []\n",
        "\n",
        "for epoch in range(1000):\n",
        " hypothesis = torch. sum(P[items] * Q[users], dim= 1)\n",
        " cost = F.mse_loss(hypothesis ,ratings)\n",
        " \n",
        " optimizer.zero_grad()\n",
        " cost.backward()\n",
        " optimizer.step()\n",
        "\n",
        " X.append(epoch)\n",
        " Y.append(cost)\n",
        "\n",
        " with torch.no_grad():\n",
        "    hypo_test = torch.sum(P[items_test] * Q[users_test], dim=1)\n",
        "    cost_test = F.mse_loss(hypo_test, ratings_test)\n",
        "    Y_test.append(cost_test)\n",
        " \n",
        " if epoch % 100 == 0:\n",
        "    print(f\"epoch: {epoch}, cost: {cost.item()}, cost_test: {cost_test.item()}\")\n",
        "\n",
        "plt.ylabel(\"MSE\")\n",
        "plt.xlabel(\"Epoch\")\n",
        "plt.plot(X,Y, c=\"blue\", label=\"Training MSE\")\n",
        "plt.plot(X,Y_test, c=\"red\", label=\"Test MSE\")\n",
        "plt.legend()\n",
        "plt.show()"
      ],
      "execution_count": 135,
      "outputs": [
        {
          "output_type": "stream",
          "name": "stdout",
          "text": [
            "epoch: 0, cost: 23.5538387298584, cost_test: 21.62071418762207\n",
            "epoch: 100, cost: 0.5618875622749329, cost_test: 1.537969946861267\n",
            "epoch: 200, cost: 0.49639150500297546, cost_test: 1.9234135150909424\n",
            "epoch: 300, cost: 0.4744406044483185, cost_test: 2.294003963470459\n",
            "epoch: 400, cost: 0.46332624554634094, cost_test: 2.6024515628814697\n",
            "epoch: 500, cost: 0.456718385219574, cost_test: 2.9373419284820557\n",
            "epoch: 600, cost: 0.4524601101875305, cost_test: 3.32235050201416\n",
            "epoch: 700, cost: 0.44955748319625854, cost_test: 3.787513256072998\n",
            "epoch: 800, cost: 0.44742804765701294, cost_test: 4.291371822357178\n",
            "epoch: 900, cost: 0.44583791494369507, cost_test: 4.839876174926758\n"
          ]
        },
        {
          "output_type": "display_data",
          "data": {
            "image/png": "[encoded data removed]",
            "text/plain": [
              "<Figure size 432x288 with 1 Axes>"
            ]
          },
          "metadata": {
            "needs_background": "light"
          }
        }
      ]
    },
    {
      "cell_type": "code",
      "metadata": {
        "colab": {
          "base_uri": "https://localhost:8080/",
          "height": 461
        },
        "id": "8brD4a-3kycm",
        "outputId": "76d06d43-e214-42dc-ce16-3f1fc99b09f4"
      },
      "source": [
        "#Regularization 추가하기\n",
        "rank = 10 #사용자 vector, 아이템 vector의 차원\n",
        "numItems = items.max() + 1  #사용자 수\n",
        "numUsers = users.max() + 1  #아이템 수\n",
        "P = torch.randn(numItems, rank, requires_grad=True) #아이템 메트릭스\n",
        "Q = torch.randn(numUsers, rank, requires_grad=True) #사용자 매트릭스\n",
        "\n",
        "optimizer = torch.optim.Adam([P, Q], lr= 0.1)\n",
        "X=[]\n",
        "Y=[]\n",
        "Y_test = []\n",
        "\n",
        "lambda1 = 0.0001\n",
        "lambda2 = 0.0001\n",
        "\n",
        "for epoch in range(1000):\n",
        " hypothesis = torch. sum(P[items] * Q[users], dim= 1)\n",
        " cost = F.mse_loss(hypothesis ,ratings)\n",
        " loss = cost + lambda1 * torch.sum(P ** 2) + lambda2 * torch.sum(Q ** 2)\n",
        " \n",
        " optimizer.zero_grad()\n",
        " loss.backward()\n",
        " optimizer.step()\n",
        "\n",
        " X.append(epoch)\n",
        " Y.append(cost)\n",
        "\n",
        " with torch.no_grad():\n",
        "    hypo_test = torch.sum(P[items_test] * Q[users_test], dim=1)\n",
        "    cost_test = F.mse_loss(hypo_test, ratings_test)\n",
        "    Y_test.append(cost_test)\n",
        " \n",
        " if epoch % 100 == 0:\n",
        "    print(f\"epoch: {epoch}, cost: {cost.item()}, cost_test: {cost_test.item()}\")\n",
        "\n",
        "plt.ylabel(\"MSE\")\n",
        "plt.xlabel(\"Epoch\")\n",
        "plt.plot(X,Y, c=\"blue\", label=\"Training MSE\")\n",
        "plt.plot(X,Y_test, c=\"red\", label=\"Test MSE\")\n",
        "plt.legend()\n",
        "plt.show()"
      ],
      "execution_count": 136,
      "outputs": [
        {
          "output_type": "stream",
          "name": "stdout",
          "text": [
            "epoch: 0, cost: 23.79684829711914, cost_test: 21.645910263061523\n",
            "epoch: 100, cost: 0.7035964131355286, cost_test: 1.0710848569869995\n",
            "epoch: 200, cost: 0.6427540183067322, cost_test: 1.0664361715316772\n",
            "epoch: 300, cost: 0.6315580606460571, cost_test: 1.0644240379333496\n",
            "epoch: 400, cost: 0.6287374496459961, cost_test: 1.0603879690170288\n",
            "epoch: 500, cost: 0.627763569355011, cost_test: 1.0576807260513306\n",
            "epoch: 600, cost: 0.6273331642150879, cost_test: 1.0561156272888184\n",
            "epoch: 700, cost: 0.6270316243171692, cost_test: 1.055248498916626\n",
            "epoch: 800, cost: 0.6268017888069153, cost_test: 1.054713249206543\n",
            "epoch: 900, cost: 0.6266564130783081, cost_test: 1.0543116331100464\n"
          ]
        },
        {
          "output_type": "display_data",
          "data": {
            "image/png": "[encoded data removed]",
            "text/plain": [
              "<Figure size 432x288 with 1 Axes>"
            ]
          },
          "metadata": {
            "needs_background": "light"
          }
        }
      ]
    },
    {
      "cell_type": "code",
      "metadata": {
        "colab": {
          "base_uri": "https://localhost:8080/",
          "height": 461
        },
        "id": "zUPgGI_xpVex",
        "outputId": "3ecbff4b-0c33-48fc-de98-8c79f0ce4104"
      },
      "source": [
        "#Bias 추가하기\n",
        "rank = 10 #사용자 vector, 아이템 vector의 차원\n",
        "numItems = items.max() + 1  #사용자 수\n",
        "numUsers = users.max() + 1  #아이템 수\n",
        "P = torch.randn(numItems, rank, requires_grad=True) #아이템 메트릭스\n",
        "Q = torch.randn(numUsers, rank, requires_grad=True) #사용자 매트릭스\n",
        "\n",
        "X=[]\n",
        "Y=[]\n",
        "Y_test = []\n",
        "\n",
        "lambda1 = 0.0001\n",
        "lambda2 = 0.0001\n",
        "lambda3 = 0.001\n",
        "lambda4 = 0.001\n",
        "bias_item = torch.randn(numItems, requires_grad=True)\n",
        "bias_user = torch.randn(numUsers, requires_grad=True)\n",
        "mean = (ratings.sum() / len(ratings)).item()\n",
        "\n",
        "optimizer = torch.optim.Adam([P, Q, bias_item, bias_user], lr=0.1)\n",
        "\n",
        "for epoch in range(1000):\n",
        " hypothesis = torch.sum(P[items] * Q[users], dim=1) + mean + bias_item[items] + bias_user[users]\n",
        " cost = F.mse_loss(hypothesis ,ratings)\n",
        " loss = cost + lambda1 * torch.sum(P ** 2) + lambda2 * torch.sum(Q ** 2) + lambda3 * torch.sum(bias_item ** 2) + lambda4 * torch.sum(bias_user ** 2)\n",
        " \n",
        " optimizer.zero_grad()\n",
        " loss.backward()\n",
        " optimizer.step()\n",
        "\n",
        " X.append(epoch)\n",
        " Y.append(cost)\n",
        "\n",
        " with torch.no_grad():\n",
        "    hypo_test = torch.sum(P[items_test] * Q[users_test], dim=1) + bias_item[items_test] + bias_user[users_test] + mean\n",
        "    cost_test = F.mse_loss(hypo_test, ratings_test)\n",
        "    Y_test.append(cost_test)\n",
        " \n",
        " if epoch % 100 == 0:\n",
        "    print(f\"epoch: {epoch}, cost: {cost.item()}, cost_test: {cost_test.item()}\")\n",
        "\n",
        "plt.ylabel(\"MSE\")\n",
        "plt.xlabel(\"Epoch\")\n",
        "plt.plot(X,Y, c=\"blue\", label=\"Training MSE\")\n",
        "plt.plot(X,Y_test, c=\"red\", label=\"Test MSE\")\n",
        "plt.legend()\n",
        "plt.show()"
      ],
      "execution_count": 137,
      "outputs": [
        {
          "output_type": "stream",
          "name": "stdout",
          "text": [
            "epoch: 0, cost: 13.242478370666504, cost_test: 10.038810729980469\n",
            "epoch: 100, cost: 0.6427234411239624, cost_test: 0.9270590543746948\n",
            "epoch: 200, cost: 0.6108866333961487, cost_test: 0.9216448664665222\n",
            "epoch: 300, cost: 0.6053629517555237, cost_test: 0.922014594078064\n",
            "epoch: 400, cost: 0.604044497013092, cost_test: 0.9203935861587524\n",
            "epoch: 500, cost: 0.6031213998794556, cost_test: 0.9179200530052185\n",
            "epoch: 600, cost: 0.6024758815765381, cost_test: 0.9154731035232544\n",
            "epoch: 700, cost: 0.6022892594337463, cost_test: 0.9145179390907288\n",
            "epoch: 800, cost: 0.6022173166275024, cost_test: 0.9138944149017334\n",
            "epoch: 900, cost: 0.6021912693977356, cost_test: 0.9132667779922485\n"
          ]
        },
        {
          "output_type": "display_data",
          "data": {
            "image/png": "[encoded data removed]",
            "text/plain": [
              "<Figure size 432x288 with 1 Axes>"
            ]
          },
          "metadata": {
            "needs_background": "light"
          }
        }
      ]
    },
    {
      "cell_type": "code",
      "metadata": {
        "id": "0SOGfXcqtC9c",
        "colab": {
          "base_uri": "https://localhost:8080/",
          "height": 461
        },
        "outputId": "5d17847b-02ee-442c-e408-8ef6a7afd55b"
      },
      "source": [
        "#lambda1 또는 lambda2를 더 크게 설정해주면 두 그래프가 더 가까워진다.\n",
        "rank = 10 #사용자 vector, 아이템 vector의 차원\n",
        "numItems = items.max() + 1  #사용자 수\n",
        "numUsers = users.max() + 1  #아이템 수\n",
        "P = torch.randn(numItems, rank, requires_grad=True) #아이템 메트릭스\n",
        "Q = torch.randn(numUsers, rank, requires_grad=True) #사용자 매트릭스\n",
        "\n",
        "X=[]\n",
        "Y=[]\n",
        "Y_test = []\n",
        "\n",
        "lambda1 = 0.1\n",
        "lambda2 = 0.1\n",
        "lambda3 = 0.001\n",
        "lambda4 = 0.001\n",
        "bias_item = torch.randn(numItems, requires_grad=True)\n",
        "bias_user = torch.randn(numUsers, requires_grad=True)\n",
        "mean = (ratings.sum() / len(ratings)).item()\n",
        "\n",
        "optimizer = torch.optim.Adam([P, Q, bias_item, bias_user], lr=0.1)\n",
        "\n",
        "for epoch in range(1000):\n",
        " hypothesis = torch.sum(P[items] * Q[users], dim=1) + mean + bias_item[items] + bias_user[users]\n",
        " cost = F.mse_loss(hypothesis ,ratings)\n",
        " loss = cost + lambda1 * torch.sum(P ** 2) + lambda2 * torch.sum(Q ** 2) + lambda3 * torch.sum(bias_item ** 2) + lambda4 * torch.sum(bias_user ** 2)\n",
        " \n",
        " optimizer.zero_grad()\n",
        " loss.backward()\n",
        " optimizer.step()\n",
        "\n",
        " X.append(epoch)\n",
        " Y.append(cost)\n",
        "\n",
        " with torch.no_grad():\n",
        "    hypo_test = torch.sum(P[items_test] * Q[users_test], dim=1) + bias_item[items_test] + bias_user[users_test] + mean\n",
        "    cost_test = F.mse_loss(hypo_test, ratings_test)\n",
        "    Y_test.append(cost_test)\n",
        " \n",
        " if epoch % 100 == 0:\n",
        "    print(f\"epoch: {epoch}, cost: {cost.item()}, cost_test: {cost_test.item()}\")\n",
        "\n",
        "plt.ylabel(\"MSE\")\n",
        "plt.xlabel(\"Epoch\")\n",
        "plt.plot(X,Y, c=\"blue\", label=\"Training MSE\")\n",
        "plt.plot(X,Y_test, c=\"red\", label=\"Test MSE\")\n",
        "plt.legend()\n",
        "plt.show()"
      ],
      "execution_count": 138,
      "outputs": [
        {
          "output_type": "stream",
          "name": "stdout",
          "text": [
            "epoch: 0, cost: 12.739885330200195, cost_test: 9.457426071166992\n",
            "epoch: 100, cost: 0.9421330690383911, cost_test: 1.0141730308532715\n",
            "epoch: 200, cost: 0.9420610666275024, cost_test: 1.014072060585022\n",
            "epoch: 300, cost: 0.9420603513717651, cost_test: 1.014072299003601\n",
            "epoch: 400, cost: 0.9420602917671204, cost_test: 1.014072299003601\n",
            "epoch: 500, cost: 0.9420602917671204, cost_test: 1.0140721797943115\n",
            "epoch: 600, cost: 0.9420603513717651, cost_test: 1.014072299003601\n",
            "epoch: 700, cost: 0.9420593976974487, cost_test: 1.01406991481781\n",
            "epoch: 800, cost: 0.9420603513717651, cost_test: 1.0140721797943115\n",
            "epoch: 900, cost: 0.942061722278595, cost_test: 1.0140661001205444\n"
          ]
        },
        {
          "output_type": "display_data",
          "data": {
            "image/png": "[encoded data removed]",
            "text/plain": [
              "<Figure size 432x288 with 1 Axes>"
            ]
          },
          "metadata": {
            "needs_background": "light"
          }
        }
      ]
    },
    {
      "cell_type": "code",
      "metadata": {
        "colab": {
          "base_uri": "https://localhost:8080/",
          "height": 461
        },
        "id": "AGR_VvLXzQAu",
        "outputId": "81bdb598-8cd4-43f3-c781-791b71b2de80"
      },
      "source": [
        "#lambda1 또는 lambda2를 더 작게 설정해주면 두 그래프가 더 멀어진다.\n",
        "rank = 10 #사용자 vector, 아이템 vector의 차원\n",
        "numItems = items.max() + 1  #사용자 수\n",
        "numUsers = users.max() + 1  #아이템 수\n",
        "P = torch.randn(numItems, rank, requires_grad=True) #아이템 메트릭스\n",
        "Q = torch.randn(numUsers, rank, requires_grad=True) #사용자 매트릭스\n",
        "\n",
        "X=[]\n",
        "Y=[]\n",
        "Y_test = []\n",
        "\n",
        "lambda1 = 0.000001\n",
        "lambda2 = 0.000001\n",
        "lambda3 = 0.001\n",
        "lambda4 = 0.001\n",
        "bias_item = torch.randn(numItems, requires_grad=True)\n",
        "bias_user = torch.randn(numUsers, requires_grad=True)\n",
        "mean = (ratings.sum() / len(ratings)).item()\n",
        "\n",
        "optimizer = torch.optim.Adam([P, Q, bias_item, bias_user], lr=0.1)\n",
        "\n",
        "for epoch in range(1000):\n",
        " hypothesis = torch.sum(P[items] * Q[users], dim=1) + mean + bias_item[items] + bias_user[users]\n",
        " cost = F.mse_loss(hypothesis ,ratings)\n",
        " loss = cost + lambda1 * torch.sum(P ** 2) + lambda2 * torch.sum(Q ** 2) + lambda3 * torch.sum(bias_item ** 2) + lambda4 * torch.sum(bias_user ** 2)\n",
        " \n",
        " optimizer.zero_grad()\n",
        " loss.backward()\n",
        " optimizer.step()\n",
        "\n",
        " X.append(epoch)\n",
        " Y.append(cost)\n",
        "\n",
        " with torch.no_grad():\n",
        "    hypo_test = torch.sum(P[items_test] * Q[users_test], dim=1) + bias_item[items_test] + bias_user[users_test] + mean\n",
        "    cost_test = F.mse_loss(hypo_test, ratings_test)\n",
        "    Y_test.append(cost_test)\n",
        " \n",
        " if epoch % 100 == 0:\n",
        "    print(f\"epoch: {epoch}, cost: {cost.item()}, cost_test: {cost_test.item()}\")\n",
        "\n",
        "plt.ylabel(\"MSE\")\n",
        "plt.xlabel(\"Epoch\")\n",
        "plt.plot(X,Y, c=\"blue\", label=\"Training MSE\")\n",
        "plt.plot(X,Y_test, c=\"red\", label=\"Test MSE\")\n",
        "plt.legend()\n",
        "plt.show()"
      ],
      "execution_count": 141,
      "outputs": [
        {
          "output_type": "stream",
          "name": "stdout",
          "text": [
            "epoch: 0, cost: 12.851186752319336, cost_test: 10.269216537475586\n",
            "epoch: 100, cost: 0.5145924091339111, cost_test: 1.5161731243133545\n",
            "epoch: 200, cost: 0.46522894501686096, cost_test: 1.6165274381637573\n",
            "epoch: 300, cost: 0.4535410702228546, cost_test: 1.6905235052108765\n",
            "epoch: 400, cost: 0.4482494592666626, cost_test: 1.8188196420669556\n",
            "epoch: 500, cost: 0.4458029270172119, cost_test: 1.8803471326828003\n",
            "epoch: 600, cost: 0.4444238245487213, cost_test: 1.904944896697998\n",
            "epoch: 700, cost: 0.4433273375034332, cost_test: 1.928979754447937\n",
            "epoch: 800, cost: 0.4422505497932434, cost_test: 1.9618682861328125\n",
            "epoch: 900, cost: 0.44134995341300964, cost_test: 1.999229907989502\n"
          ]
        },
        {
          "output_type": "display_data",
          "data": {
            "image/png": "[encoded data removed]",
            "text/plain": [
              "<Figure size 432x288 with 1 Axes>"
            ]
          },
          "metadata": {
            "needs_background": "light"
          }
        }
      ]
    },
    {
      "cell_type": "code",
      "metadata": {
        "colab": {
          "base_uri": "https://localhost:8080/",
          "height": 461
        },
        "id": "1tY7DHqkxLPm",
        "outputId": "9018257d-f590-4881-df96-2fbcde95cf70"
      },
      "source": [
        "#lambda3 또는 lambda4를 더 크게 설정해주면 두 그래프가 기존과 유의미한 차이가 없다.\n",
        "#더 작게 설정해줘도 마찬가지로 유의미한 차이가 없다.\n",
        "rank = 10 #사용자 vector, 아이템 vector의 차원\n",
        "numItems = items.max() + 1  #사용자 수\n",
        "numUsers = users.max() + 1  #아이템 수\n",
        "P = torch.randn(numItems, rank, requires_grad=True) #아이템 메트릭스\n",
        "Q = torch.randn(numUsers, rank, requires_grad=True) #사용자 매트릭스\n",
        "\n",
        "X=[]\n",
        "Y=[]\n",
        "Y_test = []\n",
        "\n",
        "lambda1 = 0.0001\n",
        "lambda2 = 0.0001\n",
        "lambda3 = 0.1\n",
        "lambda4 = 0.1\n",
        "bias_item = torch.randn(numItems, requires_grad=True)\n",
        "bias_user = torch.randn(numUsers, requires_grad=True)\n",
        "mean = (ratings.sum() / len(ratings)).item()\n",
        "\n",
        "optimizer = torch.optim.Adam([P, Q, bias_item, bias_user], lr=0.1)\n",
        "\n",
        "for epoch in range(1000):\n",
        " hypothesis = torch.sum(P[items] * Q[users], dim=1) + mean + bias_item[items] + bias_user[users]\n",
        " cost = F.mse_loss(hypothesis ,ratings)\n",
        " loss = cost + lambda1 * torch.sum(P ** 2) + lambda2 * torch.sum(Q ** 2) + lambda3 * torch.sum(bias_item ** 2) + lambda4 * torch.sum(bias_user ** 2)\n",
        " \n",
        " optimizer.zero_grad()\n",
        " loss.backward()\n",
        " optimizer.step()\n",
        "\n",
        " X.append(epoch)\n",
        " Y.append(cost)\n",
        "\n",
        " with torch.no_grad():\n",
        "    hypo_test = torch.sum(P[items_test] * Q[users_test], dim=1) + bias_item[items_test] + bias_user[users_test] + mean\n",
        "    cost_test = F.mse_loss(hypo_test, ratings_test)\n",
        "    Y_test.append(cost_test)\n",
        " \n",
        " if epoch % 100 == 0:\n",
        "    print(f\"epoch: {epoch}, cost: {cost.item()}, cost_test: {cost_test.item()}\")\n",
        "\n",
        "plt.ylabel(\"MSE\")\n",
        "plt.xlabel(\"Epoch\")\n",
        "plt.plot(X,Y, c=\"blue\", label=\"Training MSE\")\n",
        "plt.plot(X,Y_test, c=\"red\", label=\"Test MSE\")\n",
        "plt.legend()\n",
        "plt.show()"
      ],
      "execution_count": 140,
      "outputs": [
        {
          "output_type": "stream",
          "name": "stdout",
          "text": [
            "epoch: 0, cost: 13.04130744934082, cost_test: 10.075299263000488\n",
            "epoch: 100, cost: 0.6425337791442871, cost_test: 0.9339807629585266\n",
            "epoch: 200, cost: 0.6156651973724365, cost_test: 0.9257555603981018\n",
            "epoch: 300, cost: 0.6116239428520203, cost_test: 0.9248688817024231\n",
            "epoch: 400, cost: 0.6105525493621826, cost_test: 0.9223416447639465\n",
            "epoch: 500, cost: 0.6100525856018066, cost_test: 0.9202959537506104\n",
            "epoch: 600, cost: 0.609874963760376, cost_test: 0.9188601970672607\n",
            "epoch: 700, cost: 0.6098685264587402, cost_test: 0.9183436632156372\n",
            "epoch: 800, cost: 0.609887957572937, cost_test: 0.918538510799408\n",
            "epoch: 900, cost: 0.6097555160522461, cost_test: 0.9196316003799438\n"
          ]
        },
        {
          "output_type": "display_data",
          "data": {
            "image/png": "[encoded data removed]",
            "text/plain": [
              "<Figure size 432x288 with 1 Axes>"
            ]
          },
          "metadata": {
            "needs_background": "light"
          }
        }
      ]
    }
  ]
}